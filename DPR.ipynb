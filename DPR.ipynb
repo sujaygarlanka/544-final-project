{
 "cells": [
  {
   "cell_type": "code",
   "execution_count": 1,
   "metadata": {},
   "outputs": [
    {
     "name": "stderr",
     "output_type": "stream",
     "text": [
      "/home/sujay/.local/lib/python3.10/site-packages/tqdm/auto.py:21: TqdmWarning: IProgress not found. Please update jupyter and ipywidgets. See https://ipywidgets.readthedocs.io/en/stable/user_install.html\n",
      "  from .autonotebook import tqdm as notebook_tqdm\n"
     ]
    }
   ],
   "source": [
    "import pandas as pd\n",
    "from transformers import (\n",
    "    DPRContextEncoder,\n",
    "    DPRQuestionEncoder,\n",
    "    DPRContextEncoderTokenizer,\n",
    "    DPRQuestionEncoderTokenizer,\n",
    ")\n",
    "import torch.nn.functional as F\n",
    "import torch\n",
    "import numpy as np\n",
    "import json"
   ]
  },
  {
   "cell_type": "code",
   "execution_count": 2,
   "metadata": {},
   "outputs": [
    {
     "name": "stderr",
     "output_type": "stream",
     "text": [
      "/home/sujay/miniconda3/envs/544-final-project/lib/python3.10/site-packages/torch/cuda/__init__.py:141: UserWarning: CUDA initialization: CUDA unknown error - this may be due to an incorrectly set up environment, e.g. changing env variable CUDA_VISIBLE_DEVICES after program start. Setting the available devices to be zero. (Triggered internally at /opt/conda/conda-bld/pytorch_1711403388920/work/c10/cuda/CUDAFunctions.cpp:108.)\n",
      "  return torch._C._cuda_getDeviceCount() > 0\n"
     ]
    }
   ],
   "source": [
    "device = torch.device(\"cuda\" if torch.cuda.is_available() else \"cpu\")\n",
    "# device = torch.device(\"cpu\")"
   ]
  },
  {
   "cell_type": "markdown",
   "metadata": {},
   "source": [
    "# Test"
   ]
  },
  {
   "cell_type": "code",
   "execution_count": 3,
   "metadata": {},
   "outputs": [],
   "source": [
    "def test(question_encoder, context_encoder):\n",
    "    with open(\"test_data.json\", \"r\") as f:\n",
    "        test_data = json.load(f)\n",
    "    question_tokenizer = DPRQuestionEncoderTokenizer.from_pretrained(\n",
    "        \"facebook/dpr-question_encoder-single-nq-base\"\n",
    "    )\n",
    "    context_tokenizer = DPRContextEncoderTokenizer.from_pretrained(\n",
    "        \"facebook/dpr-ctx_encoder-single-nq-base\"\n",
    "    )\n",
    "    for data in test_data:\n",
    "        label = next(iter(data))\n",
    "        pos = data[label][\"pos\"]\n",
    "        neg = data[label][\"neg\"]\n",
    "        all = pos + neg\n",
    "        # Tokenize the question and the context\n",
    "        tokenized_question = question_tokenizer(\n",
    "            label, return_tensors=\"pt\", padding=\"max_length\", max_length=512, truncation=True\n",
    "        )\n",
    "        question_input_ids = tokenized_question[\"input_ids\"]\n",
    "        question_attention_mask = tokenized_question[\"attention_mask\"]\n",
    "\n",
    "        tokenized_context = context_tokenizer(\n",
    "            all, return_tensors=\"pt\", padding=\"max_length\", max_length=512, truncation=True\n",
    "        )\n",
    "        context_input_ids = tokenized_context[\"input_ids\"]\n",
    "        context_attention_mask = tokenized_context[\"attention_mask\"]\n",
    "\n",
    "        # Encode the question and the context\n",
    "        question_output = question_encoder(question_input_ids.to(device), question_attention_mask.to(device)).pooler_output\n",
    "        context_output = context_encoder(context_input_ids.to(device), context_attention_mask.to(device)).pooler_output\n",
    "        scores = F.cosine_similarity(question_output, context_output)\n",
    "        _, indices = torch.topk(scores, 5)\n",
    "        relevant_passages = np.array(all)[indices.cpu().numpy()]\n",
    "        num_correct = 0\n",
    "        for p in relevant_passages:\n",
    "            if p in pos:\n",
    "                num_correct += 1\n",
    "        print(f\"Accuracy ({label}): {num_correct}/{len(relevant_passages)}\")"
   ]
  },
  {
   "cell_type": "code",
   "execution_count": 4,
   "metadata": {},
   "outputs": [
    {
     "name": "stderr",
     "output_type": "stream",
     "text": [
      "Some weights of the model checkpoint at facebook/dpr-question_encoder-single-nq-base were not used when initializing DPRQuestionEncoder: ['question_encoder.bert_model.pooler.dense.bias', 'question_encoder.bert_model.pooler.dense.weight']\n",
      "- This IS expected if you are initializing DPRQuestionEncoder from the checkpoint of a model trained on another task or with another architecture (e.g. initializing a BertForSequenceClassification model from a BertForPreTraining model).\n",
      "- This IS NOT expected if you are initializing DPRQuestionEncoder from the checkpoint of a model that you expect to be exactly identical (initializing a BertForSequenceClassification model from a BertForSequenceClassification model).\n",
      "Some weights of the model checkpoint at facebook/dpr-ctx_encoder-single-nq-base were not used when initializing DPRContextEncoder: ['ctx_encoder.bert_model.pooler.dense.bias', 'ctx_encoder.bert_model.pooler.dense.weight']\n",
      "- This IS expected if you are initializing DPRContextEncoder from the checkpoint of a model trained on another task or with another architecture (e.g. initializing a BertForSequenceClassification model from a BertForPreTraining model).\n",
      "- This IS NOT expected if you are initializing DPRContextEncoder from the checkpoint of a model that you expect to be exactly identical (initializing a BertForSequenceClassification model from a BertForSequenceClassification model).\n",
      "The tokenizer class you load from this checkpoint is not the same type as the class this function is called from. It may result in unexpected tokenization. \n",
      "The tokenizer class you load from this checkpoint is 'DPRQuestionEncoderTokenizer'. \n",
      "The class this function is called from is 'DPRContextEncoderTokenizer'.\n"
     ]
    },
    {
     "name": "stdout",
     "output_type": "stream",
     "text": [
      "Accuracy (Java_Developer): 2/5\n",
      "Accuracy (Web_Developer): 1/5\n",
      "Accuracy (Software_Developer): 1/5\n",
      "Accuracy (Python_Developer): 4/5\n",
      "Accuracy (Front_End_Developer): 3/5\n",
      "Accuracy (Network_Administrator): 3/5\n",
      "Accuracy (Database_Administrator): 3/5\n",
      "Accuracy (Project_manager): 2/5\n",
      "Accuracy (Systems_Administrator): 2/5\n",
      "Accuracy (Security_Analyst): 2/5\n",
      "Accuracy (Java_Developer): 1/5\n",
      "Accuracy (Web_Developer): 3/5\n",
      "Accuracy (Software_Developer): 2/5\n",
      "Accuracy (Python_Developer): 3/5\n",
      "Accuracy (Front_End_Developer): 2/5\n",
      "Accuracy (Network_Administrator): 4/5\n",
      "Accuracy (Database_Administrator): 4/5\n",
      "Accuracy (Project_manager): 2/5\n",
      "Accuracy (Systems_Administrator): 3/5\n",
      "Accuracy (Security_Analyst): 4/5\n",
      "Accuracy (Java_Developer): 4/5\n",
      "Accuracy (Web_Developer): 2/5\n",
      "Accuracy (Software_Developer): 2/5\n",
      "Accuracy (Python_Developer): 2/5\n",
      "Accuracy (Front_End_Developer): 1/5\n",
      "Accuracy (Network_Administrator): 2/5\n",
      "Accuracy (Database_Administrator): 1/5\n",
      "Accuracy (Project_manager): 1/5\n",
      "Accuracy (Systems_Administrator): 3/5\n",
      "Accuracy (Security_Analyst): 1/5\n",
      "Accuracy (Java_Developer): 1/5\n",
      "Accuracy (Web_Developer): 3/5\n",
      "Accuracy (Software_Developer): 2/5\n",
      "Accuracy (Python_Developer): 4/5\n",
      "Accuracy (Front_End_Developer): 3/5\n",
      "Accuracy (Network_Administrator): 3/5\n",
      "Accuracy (Database_Administrator): 3/5\n",
      "Accuracy (Project_manager): 1/5\n",
      "Accuracy (Systems_Administrator): 4/5\n",
      "Accuracy (Security_Analyst): 2/5\n",
      "Accuracy (Java_Developer): 2/5\n",
      "Accuracy (Web_Developer): 2/5\n",
      "Accuracy (Software_Developer): 2/5\n",
      "Accuracy (Python_Developer): 4/5\n",
      "Accuracy (Front_End_Developer): 2/5\n",
      "Accuracy (Network_Administrator): 2/5\n",
      "Accuracy (Database_Administrator): 3/5\n",
      "Accuracy (Project_manager): 3/5\n",
      "Accuracy (Systems_Administrator): 2/5\n",
      "Accuracy (Security_Analyst): 3/5\n",
      "Accuracy (Java_Developer): 2/5\n",
      "Accuracy (Web_Developer): 1/5\n",
      "Accuracy (Software_Developer): 3/5\n",
      "Accuracy (Python_Developer): 4/5\n",
      "Accuracy (Front_End_Developer): 3/5\n",
      "Accuracy (Network_Administrator): 3/5\n",
      "Accuracy (Database_Administrator): 4/5\n",
      "Accuracy (Project_manager): 2/5\n",
      "Accuracy (Systems_Administrator): 3/5\n",
      "Accuracy (Security_Analyst): 2/5\n",
      "Accuracy (Java_Developer): 1/5\n",
      "Accuracy (Web_Developer): 1/5\n",
      "Accuracy (Software_Developer): 3/5\n",
      "Accuracy (Python_Developer): 4/5\n",
      "Accuracy (Front_End_Developer): 3/5\n",
      "Accuracy (Network_Administrator): 3/5\n",
      "Accuracy (Database_Administrator): 4/5\n",
      "Accuracy (Project_manager): 3/5\n",
      "Accuracy (Systems_Administrator): 2/5\n",
      "Accuracy (Security_Analyst): 1/5\n",
      "Accuracy (Java_Developer): 0/5\n",
      "Accuracy (Web_Developer): 3/5\n",
      "Accuracy (Software_Developer): 2/5\n",
      "Accuracy (Python_Developer): 1/5\n",
      "Accuracy (Front_End_Developer): 2/5\n",
      "Accuracy (Network_Administrator): 3/5\n",
      "Accuracy (Database_Administrator): 4/5\n",
      "Accuracy (Project_manager): 2/5\n",
      "Accuracy (Systems_Administrator): 3/5\n",
      "Accuracy (Security_Analyst): 1/5\n",
      "Accuracy (Java_Developer): 2/5\n",
      "Accuracy (Web_Developer): 4/5\n",
      "Accuracy (Software_Developer): 2/5\n",
      "Accuracy (Python_Developer): 3/5\n",
      "Accuracy (Front_End_Developer): 2/5\n",
      "Accuracy (Network_Administrator): 2/5\n",
      "Accuracy (Database_Administrator): 4/5\n",
      "Accuracy (Project_manager): 3/5\n",
      "Accuracy (Systems_Administrator): 3/5\n",
      "Accuracy (Security_Analyst): 3/5\n",
      "Accuracy (Java_Developer): 3/5\n",
      "Accuracy (Web_Developer): 2/5\n",
      "Accuracy (Software_Developer): 3/5\n",
      "Accuracy (Python_Developer): 3/5\n",
      "Accuracy (Front_End_Developer): 1/5\n",
      "Accuracy (Network_Administrator): 4/5\n",
      "Accuracy (Database_Administrator): 3/5\n",
      "Accuracy (Project_manager): 2/5\n",
      "Accuracy (Systems_Administrator): 4/5\n",
      "Accuracy (Security_Analyst): 2/5\n"
     ]
    }
   ],
   "source": [
    "question_encoder = DPRQuestionEncoder.from_pretrained(\n",
    "    \"facebook/dpr-question_encoder-single-nq-base\"\n",
    ").to(device)\n",
    "context_encoder = DPRContextEncoder.from_pretrained(\n",
    "    \"facebook/dpr-ctx_encoder-single-nq-base\"\n",
    ").to(device)\n",
    "test(question_encoder, context_encoder)"
   ]
  }
 ],
 "metadata": {
  "kernelspec": {
   "display_name": "544-final-project",
   "language": "python",
   "name": "python3"
  },
  "language_info": {
   "codemirror_mode": {
    "name": "ipython",
    "version": 3
   },
   "file_extension": ".py",
   "mimetype": "text/x-python",
   "name": "python",
   "nbconvert_exporter": "python",
   "pygments_lexer": "ipython3",
   "version": "3.10.13"
  }
 },
 "nbformat": 4,
 "nbformat_minor": 2
}
