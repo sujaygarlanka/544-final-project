{
 "cells": [
  {
   "cell_type": "code",
   "execution_count": 8,
   "metadata": {},
   "outputs": [],
   "source": [
    "import pandas as pd\n",
    "import json"
   ]
  },
  {
   "cell_type": "code",
   "execution_count": 9,
   "metadata": {},
   "outputs": [],
   "source": [
    "data = {\"resume\": [], \"label\": []}\n",
    "df = pd.DataFrame(data)\n",
    "\n",
    "# Iterate through a folder of text files and extract the text\n",
    "import os\n",
    "import codecs\n",
    "\n",
    "# Define the directory\n",
    "dir_path = \"./resumes_corpus\"\n",
    "\n",
    "# Get a list of all files in the directory\n",
    "files = os.listdir(dir_path)\n",
    "\n",
    "# Iterate over each file\n",
    "for file in files:\n",
    "    if file.endswith(\".txt\"):\n",
    "        # Construct full file path\n",
    "        file_path = os.path.join(dir_path, file)\n",
    "        file_path_label = file_path.replace(\".txt\", \".lab\")\n",
    "        data = {\"resume\": [], \"label\": []}\n",
    "\n",
    "        # Open the file\n",
    "        with codecs.open(file_path, \"r\", encoding=\"utf8\", errors=\"ignore\") as f:\n",
    "            # Read the file's contents\n",
    "            content = f.read()\n",
    "            data[\"resume\"].append(content)\n",
    "\n",
    "        # Open the file\n",
    "        with codecs.open(file_path_label, \"r\", encoding=\"utf8\", errors=\"ignore\") as f:\n",
    "            # Read the file's contents\n",
    "            content = f.read()\n",
    "            content = content.split(\"\\n\")\n",
    "            if \"\" in content and len(content) == 1:\n",
    "                continue\n",
    "            elif \"\" in content:\n",
    "                content.remove(\"\")\n",
    "            data[\"label\"].append(content)\n",
    "\n",
    "        new_row_df = pd.DataFrame(data)\n",
    "        # Add the new row to the DataFrame\n",
    "        df = pd.concat([df, new_row_df], ignore_index=True)"
   ]
  },
  {
   "cell_type": "code",
   "execution_count": 10,
   "metadata": {},
   "outputs": [],
   "source": [
    "unique_labels = df[\"label\"].explode().unique()\n",
    "df_generator = df.iterrows()\n",
    "valid_data = []\n",
    "indices = []\n",
    "for i in range(10):\n",
    "    for u_label in unique_labels:\n",
    "        data = {u_label: {\"pos\": [], \"neg\": []}}\n",
    "        i = 0\n",
    "        while i < 5:\n",
    "            index, row = next(df_generator)\n",
    "            if u_label in row[\"label\"]:\n",
    "                data[u_label][\"pos\"].append(row[\"resume\"])\n",
    "                indices.append(index)\n",
    "                i += 1\n",
    "        i = 0\n",
    "        while i < 15:\n",
    "            index, row = next(df_generator)\n",
    "            if u_label not in row[\"label\"]:\n",
    "                indices.append(index)\n",
    "                data[u_label][\"neg\"].append(row[\"resume\"])\n",
    "                i += 1\n",
    "        valid_data.append(data)"
   ]
  },
  {
   "cell_type": "code",
   "execution_count": 11,
   "metadata": {},
   "outputs": [],
   "source": [
    "test_data = []\n",
    "for i in range(10):\n",
    "    for u_label in unique_labels:\n",
    "        data = {u_label: {\"pos\": [], \"neg\": []}}\n",
    "        i = 0\n",
    "        while i < 5:\n",
    "            index, row = next(df_generator)\n",
    "            if u_label in row[\"label\"]:\n",
    "                data[u_label][\"pos\"].append(row[\"resume\"])\n",
    "                indices.append(index)\n",
    "                i += 1\n",
    "        i = 0\n",
    "        while i < 15:\n",
    "            index, row = next(df_generator)\n",
    "            if u_label not in row[\"label\"]:\n",
    "                indices.append(index)\n",
    "                data[u_label][\"neg\"].append(row[\"resume\"])\n",
    "                i += 1\n",
    "        test_data.append(data)"
   ]
  },
  {
   "cell_type": "code",
   "execution_count": 12,
   "metadata": {},
   "outputs": [],
   "source": [
    "train_data = df.drop(indices)"
   ]
  },
  {
   "cell_type": "code",
   "execution_count": 13,
   "metadata": {},
   "outputs": [],
   "source": [
    "train_data.to_json(\"train_data.json\", orient=\"records\", indent=4)\n",
    "with open(\"valid_data.json\", \"w\") as f:\n",
    "    json.dump(valid_data, f, indent=4)\n",
    "with open(\"test_data.json\", \"w\") as f:\n",
    "    json.dump(test_data, f, indent=4)"
   ]
  }
 ],
 "metadata": {
  "kernelspec": {
   "display_name": "544-final-project",
   "language": "python",
   "name": "python3"
  },
  "language_info": {
   "codemirror_mode": {
    "name": "ipython",
    "version": 3
   },
   "file_extension": ".py",
   "mimetype": "text/x-python",
   "name": "python",
   "nbconvert_exporter": "python",
   "pygments_lexer": "ipython3",
   "version": "3.10.13"
  }
 },
 "nbformat": 4,
 "nbformat_minor": 2
}
